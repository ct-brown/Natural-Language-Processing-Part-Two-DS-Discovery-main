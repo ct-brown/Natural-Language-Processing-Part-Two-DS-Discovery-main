{
 "cells": [
  {
   "cell_type": "markdown",
   "id": "3ac0dbfa",
   "metadata": {
    "tags": []
   },
   "source": [
    "# Natural Language Processing - Part Two"
   ]
  },
  {
   "cell_type": "markdown",
   "id": "083273ad-e1ff-4aa1-b9cc-921fe69cf7e6",
   "metadata": {},
   "source": [
    "Welcome to the Data Science Discovery Program's Natural Language Processing - Part Two workshop. If you haven't participated in part one of this two part workshop series on natural language processing, you can find the notebook in our GitHub repo: https://github.com/dlab-berkeley. <br>\n",
    "\n",
    "This workshop covers word embeddings and topic modeling. Other methods like sentiment analysis are included in the notebook but will not be covered in the workshop. Here's the outline: <br>\n",
    "* Word Emeddings <br>\n",
    "    * gensim <br>\n",
    "    * Pre-trained Word Embeddings <br>\n",
    "    * Word Similarity <br>\n",
    "    * Distance <br>\n",
    "    * Analogies <br>\n",
    "    * Training custom word embeddings <br>\n",
    "* Sentiment Analysis (not covered in workshop) <br>\n",
    "* Topic Modeling <br>\n",
    "    * Latent Dirichlet Allocation <br>\n",
    "    * Dimensionality Reduction (not covered in workshop)"
   ]
  },
  {
   "cell_type": "markdown",
   "id": "1f8ac9b8-1f69-4d50-9bc8-12a7c5387f27",
   "metadata": {
    "tags": []
   },
   "source": [
    "## Word Embeddings: `word2vec`"
   ]
  },
  {
   "cell_type": "markdown",
   "id": "fd699e7e",
   "metadata": {},
   "source": [
    "What are word embedding? It is a way to transform words into a numerical format, specifically vectors, so they can be used as inputs to a model. In the Natureal Language Processing - Part One workshop, you may have seen a way to encode text as numbers using a bag-of-words approach, which takes into account the *frequency* of words to encode the text. <br>\n",
    "\n",
    "However, what if we want to use the *meaning* of the word in our model instead? As humans, when we interpret text, we aren't just looking at how often a word appears, but also the context of the words (e.g., which words appear before or after, what words have a similar meaning, etc). <br>\n",
    "\n",
    "Introducing . . . **word embeddings**! We embed a word (or a bi-gram, tri-gram, phrase, etc) as a vector in a higher dimensional space. The word embedding model, `word2vec`, is a way to find the vector representations of words (also referred to as tokens). The figure below illustrates these two approaches. <br>\n",
    "\n",
    "The continuous bag-of-words (CBOW) approach predicts a single word using the words that come before and after it. The number of words before and after the target word that is looked at is the called the *window size*. For example, if we had the text `I went to the store to get some apples`, we may try to use the word vectors for `I`, `went`, `to`, `the`, `to`, `get`, `some`, `apples` to predict the word `store`. This would correspond to a *window size* of 4 because there are 4 words on either side of the target word. <br>\n",
    "\n",
    "In the skip-gram model, we input a word and predict what words are related or predict what words we expect would come before and after it. In the above example, we'd aim to predict the remaining words in the sentence from the word vector for `store`. "
   ]
  },
  {
   "cell_type": "markdown",
   "id": "1d364790",
   "metadata": {},
   "source": [
    "![word_embedding](../data/word_embedding.png)"
   ]
  },
  {
   "cell_type": "markdown",
   "id": "5f9abd42",
   "metadata": {},
   "source": [
    "These models are *neural networks*; specifically, a type of machine learning method called deep learning. The general idea is that there are nodes/neurons that are interconnected with different weights that are learned during the training process. The structure mimics the structure of the human brain, which is why they are called neural networks. Don't worry too much about the details for our purposes today. "
   ]
  },
  {
   "cell_type": "markdown",
   "id": "a9ebae1e",
   "metadata": {},
   "source": [
    "# gensim"
   ]
  },
  {
   "cell_type": "markdown",
   "id": "b4fda7ee",
   "metadata": {},
   "source": [
    "`gensim` is a popular Python package for natural language processing. It is one of the fastest libraries for training vector embeddings, can handle large corpus, and has many other NLP uses, such as topic modeling (which we will get into later today!)"
   ]
  },
  {
   "cell_type": "code",
   "execution_count": 47,
   "id": "19e30c97",
   "metadata": {},
   "outputs": [
    {
     "name": "stdout",
     "output_type": "stream",
     "text": [
      "Defaulting to user installation because normal site-packages is not writeable\n",
      "Requirement already satisfied: gensim in /Users/tiffanytra/Library/Python/3.9/lib/python/site-packages (4.3.2)\n",
      "Requirement already satisfied: numpy>=1.18.5 in /Users/tiffanytra/Library/Python/3.9/lib/python/site-packages (from gensim) (1.26.1)\n",
      "Requirement already satisfied: scipy>=1.7.0 in /Users/tiffanytra/Library/Python/3.9/lib/python/site-packages (from gensim) (1.11.3)\n",
      "Requirement already satisfied: smart-open>=1.8.1 in /Users/tiffanytra/Library/Python/3.9/lib/python/site-packages (from gensim) (6.4.0)\n",
      "\n",
      "\u001b[1m[\u001b[0m\u001b[34;49mnotice\u001b[0m\u001b[1;39;49m]\u001b[0m\u001b[39;49m A new release of pip is available: \u001b[0m\u001b[31;49m23.2.1\u001b[0m\u001b[39;49m -> \u001b[0m\u001b[32;49m24.0\u001b[0m\n",
      "\u001b[1m[\u001b[0m\u001b[34;49mnotice\u001b[0m\u001b[1;39;49m]\u001b[0m\u001b[39;49m To update, run: \u001b[0m\u001b[32;49m/Library/Developer/CommandLineTools/usr/bin/python3 -m pip install --upgrade pip\u001b[0m\n"
     ]
    }
   ],
   "source": [
    "# Uncomment the line below and un if you do not already have gensim installed\n",
    "!pip install gensim"
   ]
  },
  {
   "cell_type": "code",
   "execution_count": 2,
   "id": "2df8f339",
   "metadata": {},
   "outputs": [
    {
     "name": "stderr",
     "output_type": "stream",
     "text": [
      "/Users/tiffanytra/Library/Python/3.9/lib/python/site-packages/urllib3/__init__.py:34: NotOpenSSLWarning: urllib3 v2.0 only supports OpenSSL 1.1.1+, currently the 'ssl' module is compiled with 'LibreSSL 2.8.3'. See: https://github.com/urllib3/urllib3/issues/3020\n",
      "  warnings.warn(\n"
     ]
    }
   ],
   "source": [
    "import gensim\n",
    "import gensim.downloader as api\n",
    "\n",
    "import pandas as pd\n",
    "import numpy as np\n",
    "import re"
   ]
  },
  {
   "cell_type": "markdown",
   "id": "9272fd9d",
   "metadata": {},
   "source": [
    "# Pre-trained Word Embeddings"
   ]
  },
  {
   "cell_type": "markdown",
   "id": "0cb0f75b",
   "metadata": {},
   "source": [
    "There are many word embedding models that have already been trained on a large corpus. There are many different models trained in different contexts already available on `gensim`. Here are some examples:"
   ]
  },
  {
   "cell_type": "code",
   "execution_count": 48,
   "id": "bef6ea5e",
   "metadata": {},
   "outputs": [
    {
     "name": "stdout",
     "output_type": "stream",
     "text": [
      "['fasttext-wiki-news-subwords-300', 'conceptnet-numberbatch-17-06-300', 'word2vec-ruscorpora-300', 'word2vec-google-news-300', 'glove-wiki-gigaword-50', 'glove-wiki-gigaword-100', 'glove-wiki-gigaword-200', 'glove-wiki-gigaword-300', 'glove-twitter-25', 'glove-twitter-50', 'glove-twitter-100', 'glove-twitter-200', '__testing_word2vec-matrix-synopsis']\n"
     ]
    }
   ],
   "source": [
    "gensim_models = list(api.info()['models'].keys())\n",
    "print(gensim_models)"
   ]
  },
  {
   "cell_type": "markdown",
   "id": "052194d2",
   "metadata": {},
   "source": [
    "We are going to take a closer look at the `word2vec-google-news-300` model: this is a word embedding model that is trained on Google News, where the embedding is 300 dimensions. Downloading this might take a while! The word embedding model is nearly 2 GB. "
   ]
  },
  {
   "cell_type": "code",
   "execution_count": 4,
   "id": "3a5c8863",
   "metadata": {},
   "outputs": [
    {
     "name": "stdout",
     "output_type": "stream",
     "text": [
      "[==================================================] 100.0% 1662.8/1662.8MB downloaded\n"
     ]
    }
   ],
   "source": [
    "wv = api.load('word2vec-google-news-300')"
   ]
  },
  {
   "cell_type": "markdown",
   "id": "c63debc6",
   "metadata": {},
   "source": [
    "There are a variety of methods we can use to explore the embeddings in this model. For example, `.index_to_key` will give us a list of the words/phrases (called the vocabulary) that we have vector embeddings for in this model. "
   ]
  },
  {
   "cell_type": "code",
   "execution_count": 49,
   "id": "55ad7468",
   "metadata": {},
   "outputs": [
    {
     "data": {
      "text/plain": [
       "['</s>', 'in', 'for', 'that', 'is']"
      ]
     },
     "execution_count": 49,
     "metadata": {},
     "output_type": "execute_result"
    }
   ],
   "source": [
    "# 5 example words in the corpus\n",
    "wv.index_to_key[:5]"
   ]
  },
  {
   "cell_type": "markdown",
   "id": "0f1d2599",
   "metadata": {},
   "source": [
    "We can find how many word vectors we have in this model by taking the length of this list."
   ]
  },
  {
   "cell_type": "code",
   "execution_count": 50,
   "id": "7c9c7da4",
   "metadata": {},
   "outputs": [
    {
     "name": "stdout",
     "output_type": "stream",
     "text": [
      "Number of words: 3000000\n",
      "['</s>', 'in', 'for', 'that', 'is', 'on', '##', 'The', 'with', 'said', 'was', 'the', 'at', 'not', 'as', 'it', 'be', 'from', 'by', 'are']\n"
     ]
    }
   ],
   "source": [
    "n_words = len(wv.index_to_key)\n",
    "print(f\"Number of words: {n_words}\")\n",
    "print(wv.index_to_key[:20])"
   ]
  },
  {
   "cell_type": "markdown",
   "id": "1ca5443e",
   "metadata": {},
   "source": [
    "The model is trained using a vocabulary of size 3 million! This is a huge model, which takes hours to train. This is why we used a pre-trained model - we likely don't have the resources to train this on our local machines.\n",
    "\n",
    "Accessing the actual word vectors can be done by treating the word vector model as a dictionary. For example, let's take a look at the word vector for `\"banana\"`:"
   ]
  },
  {
   "cell_type": "code",
   "execution_count": 51,
   "id": "b64954ed",
   "metadata": {},
   "outputs": [
    {
     "name": "stdout",
     "output_type": "stream",
     "text": [
      "[-8.54492188e-02  4.71191406e-02 -6.93359375e-02  3.02734375e-01\n",
      " -1.87500000e-01 -3.19824219e-02  2.95410156e-02 -2.05078125e-01\n",
      " -9.03320312e-02  2.98828125e-01  2.10937500e-01 -6.88476562e-02\n",
      "  4.76074219e-02  5.83496094e-02 -2.75390625e-01  2.42187500e-01\n",
      " -3.22265625e-01  4.73632812e-02 -1.44531250e-01  9.37500000e-02\n",
      "  6.74438477e-03  2.17773438e-01  2.31445312e-01  1.87500000e-01\n",
      "  8.49609375e-02 -5.39550781e-02 -2.65625000e-01  2.23388672e-02\n",
      "  2.24609375e-01  4.12109375e-01 -2.30712891e-02 -1.67968750e-01\n",
      "  1.01928711e-02  2.10937500e-01  1.14135742e-02  2.50000000e-01\n",
      "  8.64257812e-02 -2.16796875e-01  8.93554688e-02  1.50390625e-01\n",
      " -2.03125000e-01 -2.30468750e-01  1.42578125e-01  1.34765625e-01\n",
      " -1.13769531e-01 -1.80664062e-01  3.58886719e-02 -1.69921875e-01\n",
      "  1.55273438e-01  2.39257812e-01 -2.30468750e-01 -9.96093750e-02\n",
      "  1.82617188e-01 -1.81640625e-01 -1.46484375e-01 -7.03125000e-02\n",
      "  9.37500000e-02 -2.67578125e-01  2.17285156e-02 -1.45507812e-01\n",
      " -2.38037109e-02  1.53320312e-01 -9.81445312e-02 -1.69677734e-02\n",
      "  5.00488281e-02 -3.08593750e-01 -3.00781250e-01 -3.20312500e-01\n",
      "  1.18652344e-01 -1.28906250e-01  1.79687500e-01  8.74023438e-02\n",
      " -1.48925781e-02 -9.71679688e-02 -5.62500000e-01  2.50244141e-02\n",
      " -2.08984375e-01 -2.33398438e-01 -9.86328125e-02 -2.22167969e-02\n",
      " -1.13281250e-01  1.17675781e-01 -1.56250000e-01 -1.03515625e-01\n",
      "  6.22558594e-02 -2.04101562e-01  2.75878906e-02  2.57812500e-01\n",
      " -1.89453125e-01 -6.29882812e-02 -2.94921875e-01  1.64062500e-01\n",
      "  2.21252441e-04 -1.40625000e-01 -2.45361328e-02 -6.73828125e-02\n",
      " -4.76074219e-02  2.57568359e-02  2.92968750e-01 -4.41894531e-02\n",
      " -2.26562500e-01 -3.07617188e-02  3.66210938e-02  1.00585938e-01\n",
      " -8.10546875e-02  7.76367188e-02  1.94335938e-01 -1.09863281e-01\n",
      " -2.59765625e-01 -1.41601562e-01 -2.67578125e-01 -2.39257812e-01\n",
      " -2.34375000e-01  6.59179688e-02 -2.96875000e-01 -1.22680664e-02\n",
      "  1.44531250e-01 -2.38281250e-01  2.38037109e-02  2.81982422e-02\n",
      " -5.12695312e-02 -1.06445312e-01 -1.22070312e-01 -2.33398438e-01\n",
      " -1.75781250e-01  1.24023438e-01  1.94091797e-02 -1.08886719e-01\n",
      "  1.19628906e-01  3.73046875e-01 -2.48046875e-01 -1.38671875e-01\n",
      " -1.33789062e-01 -2.65625000e-01 -2.71484375e-01  2.67578125e-01\n",
      " -5.22460938e-02  4.68750000e-02  1.42578125e-01 -2.57812500e-01\n",
      " -1.46484375e-01 -4.02343750e-01 -7.95898438e-02  3.39355469e-02\n",
      "  1.06445312e-01  8.64257812e-02  1.00585938e-01  6.39648438e-02\n",
      " -1.69921875e-01  2.67578125e-01  4.85839844e-02 -1.90429688e-01\n",
      " -3.22265625e-01  1.03027344e-01  4.19921875e-02 -6.37817383e-03\n",
      " -1.96289062e-01 -1.04003906e-01  1.04492188e-01 -1.68945312e-01\n",
      " -3.14453125e-01  2.16674805e-03  1.27929688e-01  9.17968750e-02\n",
      " -1.25976562e-01 -2.12097168e-03  1.94335938e-01 -1.42578125e-01\n",
      " -1.56250000e-01 -5.44433594e-02 -9.13085938e-02  1.52343750e-01\n",
      " -2.55126953e-02 -2.38281250e-01 -4.14062500e-01 -1.99218750e-01\n",
      "  1.73828125e-01 -8.25195312e-02  6.88476562e-02  2.69531250e-01\n",
      " -9.17968750e-02 -8.10546875e-02 -2.45117188e-01  2.53906250e-01\n",
      " -1.96838379e-03  5.05371094e-02  4.66308594e-02  2.63671875e-02\n",
      "  2.23632812e-01 -1.89453125e-01  1.04003906e-01 -2.80761719e-02\n",
      "  4.00390625e-02 -2.07031250e-01  4.06250000e-01  4.49218750e-01\n",
      " -3.32031250e-02 -2.24609375e-01 -1.28906250e-01 -2.86865234e-02\n",
      "  2.08984375e-01 -2.18750000e-01  6.07910156e-02  1.25000000e-01\n",
      "  4.37011719e-02  7.17773438e-02  3.14941406e-02  1.23535156e-01\n",
      " -8.23974609e-03 -4.32128906e-02 -2.31445312e-01  7.37304688e-02\n",
      " -1.51367188e-01  1.52343750e-01  2.08007812e-01 -1.63085938e-01\n",
      " -2.20703125e-01 -2.96875000e-01  1.46484375e-01  3.16406250e-01\n",
      "  9.47265625e-02 -7.03125000e-02 -2.06054688e-01 -3.06396484e-02\n",
      " -1.22070312e-01 -2.47070312e-01  9.13085938e-02  1.22558594e-01\n",
      "  4.10156250e-01  1.22558594e-01  3.80859375e-02 -8.64257812e-02\n",
      " -4.27246094e-02  4.12597656e-02 -1.30859375e-01 -1.11328125e-01\n",
      " -1.15966797e-02 -1.60156250e-01  2.63671875e-01  5.37109375e-02\n",
      "  3.11279297e-02 -2.53906250e-01  6.12792969e-02  5.02929688e-02\n",
      "  3.68652344e-02 -2.83203125e-01 -3.63281250e-01  2.78320312e-02\n",
      "  1.28906250e-01 -1.85546875e-01 -1.03515625e-01 -1.29882812e-01\n",
      "  3.69140625e-01 -1.31835938e-01 -4.22363281e-02 -3.98437500e-01\n",
      "  1.08642578e-02 -1.95312500e-01 -1.49414062e-01 -4.95605469e-02\n",
      " -7.91015625e-02  2.50000000e-01 -2.05078125e-01  2.65625000e-01\n",
      " -1.19628906e-02 -1.37695312e-01 -1.73828125e-01  3.35937500e-01\n",
      " -1.28906250e-01 -2.55859375e-01 -1.89453125e-01  1.61132812e-01\n",
      "  2.23632812e-01 -1.08886719e-01 -8.05664062e-03  1.82617188e-01\n",
      " -1.90429688e-01 -1.69677734e-02 -6.83593750e-02  3.04687500e-01\n",
      "  1.79687500e-01  1.65039062e-01  5.85937500e-02 -1.02050781e-01\n",
      "  6.68945312e-02 -7.61718750e-02 -3.33984375e-01  6.34765625e-02\n",
      " -9.76562500e-02  1.71875000e-01 -1.77734375e-01 -8.25195312e-02\n",
      "  3.85742188e-02 -2.94921875e-01  5.52368164e-03  5.44433594e-02\n",
      " -9.47265625e-02  1.26953125e-01  1.17187500e-01  1.77734375e-01]\n",
      "300\n"
     ]
    }
   ],
   "source": [
    "print(wv[\"banana\"])\n",
    "print(wv[\"banana\"].size)"
   ]
  },
  {
   "cell_type": "markdown",
   "id": "ab0a3452",
   "metadata": {},
   "source": [
    "The word vector has a dimension of 300. To us, these numbers are pretty uncomprehensible and uninterpretable, but we can now use these vectors to perform \"calculations\" on words to find words that are similar and dissimilar. A particular interesting use of word embeddings is to find words similar by *analogy*. \n",
    "<br> <br>\n",
    "What do we expect below, based on the context we are given? <br> \n",
    "#### **geese - goose + toad = ?**"
   ]
  },
  {
   "cell_type": "markdown",
   "id": "94baf9f8",
   "metadata": {},
   "source": [
    "![word_analogy](../data/word_analogy.png)"
   ]
  },
  {
   "cell_type": "markdown",
   "id": "a13b6e9d",
   "metadata": {},
   "source": [
    " If you said toads, that's correct!"
   ]
  },
  {
   "cell_type": "markdown",
   "id": "1eba1f56",
   "metadata": {},
   "source": [
    "Note if you try to use a word not in the vocabulary (a word that is not present in the corpus the model was trained on), it will result in an error. This is a limitation of `Word2Vec`. It cannot infer vector embeddings for words that it has never seen before."
   ]
  },
  {
   "cell_type": "code",
   "execution_count": 52,
   "id": "27af36ec",
   "metadata": {},
   "outputs": [
    {
     "ename": "KeyError",
     "evalue": "\"Key 'nbvouphr' not present\"",
     "output_type": "error",
     "traceback": [
      "\u001b[0;31m---------------------------------------------------------------------------\u001b[0m",
      "\u001b[0;31mKeyError\u001b[0m                                  Traceback (most recent call last)",
      "Cell \u001b[0;32mIn[52], line 2\u001b[0m\n\u001b[1;32m      1\u001b[0m \u001b[38;5;66;03m# this will error\u001b[39;00m\n\u001b[0;32m----> 2\u001b[0m \u001b[43mwv\u001b[49m\u001b[43m[\u001b[49m\u001b[38;5;124;43m\"\u001b[39;49m\u001b[38;5;124;43mnbvouphr\u001b[39;49m\u001b[38;5;124;43m\"\u001b[39;49m\u001b[43m]\u001b[49m\n",
      "File \u001b[0;32m~/Library/Python/3.9/lib/python/site-packages/gensim/models/keyedvectors.py:403\u001b[0m, in \u001b[0;36mKeyedVectors.__getitem__\u001b[0;34m(self, key_or_keys)\u001b[0m\n\u001b[1;32m    389\u001b[0m \u001b[38;5;250m\u001b[39m\u001b[38;5;124;03m\"\"\"Get vector representation of `key_or_keys`.\u001b[39;00m\n\u001b[1;32m    390\u001b[0m \n\u001b[1;32m    391\u001b[0m \u001b[38;5;124;03mParameters\u001b[39;00m\n\u001b[0;32m   (...)\u001b[0m\n\u001b[1;32m    400\u001b[0m \n\u001b[1;32m    401\u001b[0m \u001b[38;5;124;03m\"\"\"\u001b[39;00m\n\u001b[1;32m    402\u001b[0m \u001b[38;5;28;01mif\u001b[39;00m \u001b[38;5;28misinstance\u001b[39m(key_or_keys, _KEY_TYPES):\n\u001b[0;32m--> 403\u001b[0m     \u001b[38;5;28;01mreturn\u001b[39;00m \u001b[38;5;28;43mself\u001b[39;49m\u001b[38;5;241;43m.\u001b[39;49m\u001b[43mget_vector\u001b[49m\u001b[43m(\u001b[49m\u001b[43mkey_or_keys\u001b[49m\u001b[43m)\u001b[49m\n\u001b[1;32m    405\u001b[0m \u001b[38;5;28;01mreturn\u001b[39;00m vstack([\u001b[38;5;28mself\u001b[39m\u001b[38;5;241m.\u001b[39mget_vector(key) \u001b[38;5;28;01mfor\u001b[39;00m key \u001b[38;5;129;01min\u001b[39;00m key_or_keys])\n",
      "File \u001b[0;32m~/Library/Python/3.9/lib/python/site-packages/gensim/models/keyedvectors.py:446\u001b[0m, in \u001b[0;36mKeyedVectors.get_vector\u001b[0;34m(self, key, norm)\u001b[0m\n\u001b[1;32m    422\u001b[0m \u001b[38;5;28;01mdef\u001b[39;00m \u001b[38;5;21mget_vector\u001b[39m(\u001b[38;5;28mself\u001b[39m, key, norm\u001b[38;5;241m=\u001b[39m\u001b[38;5;28;01mFalse\u001b[39;00m):\n\u001b[1;32m    423\u001b[0m \u001b[38;5;250m    \u001b[39m\u001b[38;5;124;03m\"\"\"Get the key's vector, as a 1D numpy array.\u001b[39;00m\n\u001b[1;32m    424\u001b[0m \n\u001b[1;32m    425\u001b[0m \u001b[38;5;124;03m    Parameters\u001b[39;00m\n\u001b[0;32m   (...)\u001b[0m\n\u001b[1;32m    444\u001b[0m \n\u001b[1;32m    445\u001b[0m \u001b[38;5;124;03m    \"\"\"\u001b[39;00m\n\u001b[0;32m--> 446\u001b[0m     index \u001b[38;5;241m=\u001b[39m \u001b[38;5;28;43mself\u001b[39;49m\u001b[38;5;241;43m.\u001b[39;49m\u001b[43mget_index\u001b[49m\u001b[43m(\u001b[49m\u001b[43mkey\u001b[49m\u001b[43m)\u001b[49m\n\u001b[1;32m    447\u001b[0m     \u001b[38;5;28;01mif\u001b[39;00m norm:\n\u001b[1;32m    448\u001b[0m         \u001b[38;5;28mself\u001b[39m\u001b[38;5;241m.\u001b[39mfill_norms()\n",
      "File \u001b[0;32m~/Library/Python/3.9/lib/python/site-packages/gensim/models/keyedvectors.py:420\u001b[0m, in \u001b[0;36mKeyedVectors.get_index\u001b[0;34m(self, key, default)\u001b[0m\n\u001b[1;32m    418\u001b[0m     \u001b[38;5;28;01mreturn\u001b[39;00m default\n\u001b[1;32m    419\u001b[0m \u001b[38;5;28;01melse\u001b[39;00m:\n\u001b[0;32m--> 420\u001b[0m     \u001b[38;5;28;01mraise\u001b[39;00m \u001b[38;5;167;01mKeyError\u001b[39;00m(\u001b[38;5;124mf\u001b[39m\u001b[38;5;124m\"\u001b[39m\u001b[38;5;124mKey \u001b[39m\u001b[38;5;124m'\u001b[39m\u001b[38;5;132;01m{\u001b[39;00mkey\u001b[38;5;132;01m}\u001b[39;00m\u001b[38;5;124m'\u001b[39m\u001b[38;5;124m not present\u001b[39m\u001b[38;5;124m\"\u001b[39m)\n",
      "\u001b[0;31mKeyError\u001b[0m: \"Key 'nbvouphr' not present\""
     ]
    }
   ],
   "source": [
    "# this will error\n",
    "wv[\"nbvouphr\"]"
   ]
  },
  {
   "cell_type": "markdown",
   "id": "f232a55d",
   "metadata": {},
   "source": [
    "# Word Similarity"
   ]
  },
  {
   "cell_type": "markdown",
   "id": "d9ff29dc",
   "metadata": {},
   "source": [
    "A semantic question we can ask is what words are similar to \"banana\". How does word similarity look in vector operations? We'd expect similar words to have vectors that are closer to each other in vector space.\n",
    "\n",
    "There are many metrics of vector similarity - one of the most useful ones is the [cosine similarity](https://en.wikipedia.org/wiki/Cosine_similarity). It has a range of 0 to 1, with orthogonal vectors have a cosine similarity of 0, and parallel vectors having a cosine similarity of 1. `gensim` provides a function that lets us find the most similar vectors to a queried vector - let's give it a shot! "
   ]
  },
  {
   "cell_type": "code",
   "execution_count": 53,
   "id": "10c7ecf3",
   "metadata": {},
   "outputs": [
    {
     "data": {
      "text/plain": [
       "[('melon', 0.6983706951141357),\n",
       " ('watermelons', 0.6827898621559143),\n",
       " ('pumpkin', 0.6481068730354309),\n",
       " ('cantaloupe', 0.6420692801475525),\n",
       " ('strawberry', 0.6400059461593628),\n",
       " ('peaches', 0.6399620771408081),\n",
       " ('tomato', 0.637578547000885),\n",
       " ('melons', 0.6292497515678406),\n",
       " ('strawberries', 0.6150191426277161),\n",
       " ('juicy_strawberries', 0.5819118022918701)]"
      ]
     },
     "execution_count": 53,
     "metadata": {},
     "output_type": "execute_result"
    }
   ],
   "source": [
    "wv.most_similar('watermelon')"
   ]
  },
  {
   "cell_type": "code",
   "execution_count": 54,
   "id": "bc5ffad6",
   "metadata": {},
   "outputs": [
    {
     "data": {
      "text/plain": [
       "[('glad', 0.7408890724182129),\n",
       " ('pleased', 0.6632170677185059),\n",
       " ('ecstatic', 0.6626912355422974),\n",
       " ('overjoyed', 0.6599286794662476),\n",
       " ('thrilled', 0.6514049172401428),\n",
       " ('satisfied', 0.6437949538230896),\n",
       " ('proud', 0.636042058467865),\n",
       " ('delighted', 0.627237856388092),\n",
       " ('disappointed', 0.6269949674606323),\n",
       " ('excited', 0.6247665286064148)]"
      ]
     },
     "execution_count": 54,
     "metadata": {},
     "output_type": "execute_result"
    }
   ],
   "source": [
    "wv.most_similar('happy')"
   ]
  },
  {
   "cell_type": "markdown",
   "id": "799a4ef9",
   "metadata": {},
   "source": [
    "What are some things you notice about the words returned?"
   ]
  },
  {
   "cell_type": "markdown",
   "id": "4467a9bd",
   "metadata": {},
   "source": [
    "# Distance "
   ]
  },
  {
   "cell_type": "markdown",
   "id": "743e52ce",
   "metadata": {},
   "source": [
    "The number that appears next to the word is the distance between that word and the word we specified. How \"similar\" a word is to another word is determined by the \"distance\" between the vector embeddings. The higher the distance, the less \"similar\" those words are, since their vector embeddings are far from each. We expect words with similar meaning and contexts to be near each other in vector representation. These patterns are part of what was learned by the neural network during the training process. "
   ]
  },
  {
   "cell_type": "markdown",
   "id": "c702af5a",
   "metadata": {},
   "source": [
    "Choose two words and find the distance between their vectors."
   ]
  },
  {
   "cell_type": "code",
   "execution_count": 56,
   "id": "c67e55e3",
   "metadata": {},
   "outputs": [
    {
     "data": {
      "text/plain": [
       "0.9981907978653908"
      ]
     },
     "execution_count": 56,
     "metadata": {},
     "output_type": "execute_result"
    }
   ],
   "source": [
    "# Fill in the blanks with two words, make sure the words are a string\n",
    "wv.distance(\"blue\", \"computer\")"
   ]
  },
  {
   "cell_type": "markdown",
   "id": "e65e9427",
   "metadata": {},
   "source": [
    "# Analogies"
   ]
  },
  {
   "cell_type": "markdown",
   "id": "49ddb26f",
   "metadata": {},
   "source": [
    "We briefly talked about this before, but now let's look at some more examples as well as how to actually perform the calculations."
   ]
  },
  {
   "cell_type": "markdown",
   "id": "e7aff9b4",
   "metadata": {},
   "source": [
    "`Paris : France :: Berlin : Germany`\n",
    "\n",
    "Here, the analogy is between (Paris, France) and (Berlin, Germany), with \"capital city\" being the concept that connects them. We can abstract the \"analogy\" relationship to vector modeling. Let's pretend we're working with each of the vectors. Then, the analogy is\n",
    "\n",
    "$\\mathbf{v}_{\\text{France}} - \\mathbf{v}_{\\text{Paris}} \\approx \\mathbf{v}_{\\text{Germany}} - \\mathbf{v}_{\\text{Berlin}}.$\n",
    "\n",
    "The vector difference here represents the notion of \"capital city\". Presumably, going from the Paris vector to the France vector (i.e., the vector difference) will be the same as going from the Berlin vector to the Germany vector, if that difference carries similar semantic meaning.\n",
    "\n",
    "Let's test this directly. We'll do so by rewriting the above expression:\n",
    "\n",
    "$\\mathbf{v}_{\\text{France}} - \\mathbf{v}_{\\text{Paris}} + \\mathbf{v}_{\\text{Berlin}} \\approx \\mathbf{v}_{\\text{Germany}}.$\n",
    "\n",
    "We'll calculate the difference between Paris and France, add on Germany, and find the closest vector to that quantity. Notice that, in all these operations, we set `norm=True`, and renormalize. That's because different vectors might be of different lengths, so the normalization puts everything on a common scale."
   ]
  },
  {
   "cell_type": "code",
   "execution_count": 57,
   "id": "0f2883d4",
   "metadata": {},
   "outputs": [],
   "source": [
    "# Calculate \"capital city\" vector difference\n",
    "difference = wv.get_vector('France', norm=True) - wv.get_vector('Paris', norm=True) \n",
    "# Add on Berlin\n",
    "difference += wv.get_vector('Berlin', norm=True)\n",
    "# Renormalize vector\n",
    "# in linear algebra, the norm of a vector is a way to measure the magnitude of a vector\n",
    "difference /= np.linalg.norm(difference) "
   ]
  },
  {
   "cell_type": "code",
   "execution_count": 58,
   "id": "7e9aefdb",
   "metadata": {},
   "outputs": [
    {
     "data": {
      "text/plain": [
       "[('Germany', 0.7901254892349243),\n",
       " ('Berlin', 0.6956422924995422),\n",
       " ('France', 0.6161972284317017),\n",
       " ('Austria', 0.6026812791824341),\n",
       " ('German', 0.6004960536956787),\n",
       " ('Germans', 0.5851002931594849),\n",
       " ('Poland', 0.5847076177597046),\n",
       " ('Hungary', 0.5271855592727661),\n",
       " ('BBC_Tristana_Moore', 0.5249711275100708),\n",
       " ('symbol_RSTI', 0.5245768427848816)]"
      ]
     },
     "execution_count": 58,
     "metadata": {},
     "output_type": "execute_result"
    }
   ],
   "source": [
    "# What is the most similar vector?\n",
    "wv.most_similar(difference)"
   ]
  },
  {
   "cell_type": "markdown",
   "id": "729a7425",
   "metadata": {},
   "source": [
    "Here is a more concise way to do this same thing using a function we are already familiar with: `most_similar`"
   ]
  },
  {
   "cell_type": "code",
   "execution_count": 59,
   "id": "0076443f",
   "metadata": {},
   "outputs": [
    {
     "data": {
      "text/plain": [
       "[('Germany', 0.7901254892349243)]"
      ]
     },
     "execution_count": 59,
     "metadata": {},
     "output_type": "execute_result"
    }
   ],
   "source": [
    "wv.most_similar(positive=[\"France\", \"Berlin\"], negative=[\"Paris\"])[:1]"
   ]
  },
  {
   "cell_type": "markdown",
   "id": "e55b0680",
   "metadata": {},
   "source": [
    "## Try it out on your own [not covered]"
   ]
  },
  {
   "cell_type": "markdown",
   "id": "36d20031",
   "metadata": {},
   "source": [
    "## Challenge 1\n",
    "\n",
    "Look up the `doesnt_match` function in `gensim`'s documentation. Use this function to identify which word doesn't match in the following group:\n",
    "\n",
    "banana, apple, strawberry, happy\n",
    "\n",
    "Then, try it on groups of words that you choose. Here are some suggestions:\n",
    "\n",
    "1. A group of fruits, and a vegetable. Can it identify that the vegetable doesn't match?\n",
    "2. A group of vehicles that travel by land, and a vehicle that travels by air (e.g., a plane or helicopter). Can it identify the vehicle that flies?\n",
    "3. A group of scientists (e.g., biologist, physicist, chemist, etc.) and a person who does not study an empirical science (e.g., an artist). Can it identify the occupation that is not science based?\n",
    "\n",
    "To be clear, `word2vec` does not learn the precise nature of the differences between these groups. However, the semantic differences correspond to similar words appearing near each other in large corpora."
   ]
  },
  {
   "cell_type": "code",
   "execution_count": null,
   "id": "ae2e31a8",
   "metadata": {},
   "outputs": [],
   "source": [
    "# Your code here"
   ]
  },
  {
   "cell_type": "markdown",
   "id": "79f8858c",
   "metadata": {},
   "source": [
    "## Challenge 2\n",
    "\n",
    "Carry out the following word analogies:\n",
    "\n",
    "1. Mouse : Mice :: Goose : ?\n",
    "2. Kangaroo : Joey :: Cat : ?\n",
    "3. United States : Dollar :: Mexico : ?\n",
    "4. Happy : Sad :: Up : ?\n",
    "5. California : Sacramento :: Canada : ?\n",
    "6. California : Sacramento :: Washington : ?\n",
    "\n",
    "What about something more abstract, such as:\n",
    "\n",
    "7. United States : hamburger :: Canada : ?\n",
    "\n",
    "Some work well, and others don't work as well. Try to come up with your own analogies!"
   ]
  },
  {
   "cell_type": "code",
   "execution_count": null,
   "id": "2a6fa8bf",
   "metadata": {},
   "outputs": [],
   "source": [
    "# Your code here"
   ]
  },
  {
   "cell_type": "markdown",
   "id": "4a9cf2ac",
   "metadata": {},
   "source": [
    "# Training custom word embeddings"
   ]
  },
  {
   "cell_type": "markdown",
   "id": "6f24dd22",
   "metadata": {},
   "source": [
    "We've been using pre-trained word embeddings, but you can also train your own word embeddings using a corpus of your choice. Note that training a model on a large corpus will take a long time and be very computationally expensive, so we'll just be using a small corpus today as an example. Generally, larger corpus tend to produce better embeddings, but we can still get meaningful results of a smaller corpus."
   ]
  },
  {
   "cell_type": "markdown",
   "id": "199e280f",
   "metadata": {},
   "source": [
    "First, lets load in and preprocess our text."
   ]
  },
  {
   "cell_type": "code",
   "execution_count": 17,
   "id": "e8d666a6",
   "metadata": {},
   "outputs": [],
   "source": [
    "tweets_path = '../data/airline_tweets.csv'\n",
    "tweets = pd.read_csv(tweets_path, sep=',')"
   ]
  },
  {
   "cell_type": "code",
   "execution_count": 18,
   "id": "5b06b3a4",
   "metadata": {},
   "outputs": [],
   "source": [
    "def preprocess(text):\n",
    "    \"\"\"Preprocesses a string.\"\"\"\n",
    "    # Lowercase\n",
    "    text = text.lower()\n",
    "    # Replace URLs\n",
    "    url_pattern = r'https?:\\/\\/.*[\\r\\n]*'\n",
    "    url_repl = ' URL '\n",
    "    text = re.sub(url_pattern, url_repl, text)\n",
    "    # Replace digits\n",
    "    digit_pattern = '\\d+'\n",
    "    digit_repl = ' DIGIT '\n",
    "    text = re.sub(digit_pattern, digit_repl, text)\n",
    "    # Replace hashtags\n",
    "    hashtag_pattern = r'(?:^|\\s)[＃#]{1}(\\w+)'\n",
    "    hashtag_repl = ' HASHTAG '\n",
    "    text = re.sub(hashtag_pattern, hashtag_repl, text)\n",
    "    # Replace users\n",
    "    user_pattern = r'@(\\w+)'\n",
    "    user_repl = ' USER '\n",
    "    text = re.sub(user_pattern, user_repl, text)\n",
    "    # Remove blank spaces\n",
    "    blankspace_pattern = r'\\s+'\n",
    "    blankspace_repl = ' '\n",
    "    text = re.sub(blankspace_pattern, blankspace_repl, text).strip()\n",
    "    return text"
   ]
  },
  {
   "cell_type": "code",
   "execution_count": 60,
   "id": "3ce0538c",
   "metadata": {},
   "outputs": [
    {
     "data": {
      "text/plain": [
       "0                                 USER what USER said.\n",
       "1    USER plus you've added commercials to the expe...\n",
       "2    USER i didn't today... must mean i need to tak...\n",
       "3    USER it's really aggressive to blast obnoxious...\n",
       "4        USER and it's a really big bad thing about it\n",
       "Name: text_processed, dtype: object"
      ]
     },
     "execution_count": 60,
     "metadata": {},
     "output_type": "execute_result"
    }
   ],
   "source": [
    "tweets['text_processed'] = tweets['text'].apply(lambda x: preprocess(x))\n",
    "tweets['text_processed'].head()"
   ]
  },
  {
   "cell_type": "markdown",
   "id": "706b902e",
   "metadata": {},
   "source": [
    "The `Word2Vec` module will allow us to create our own model."
   ]
  },
  {
   "cell_type": "code",
   "execution_count": 20,
   "id": "f9d2b1fa",
   "metadata": {},
   "outputs": [],
   "source": [
    "from gensim.models import Word2Vec"
   ]
  },
  {
   "cell_type": "markdown",
   "id": "59ca97d5",
   "metadata": {},
   "source": [
    "This model takes in `sentences`, which is a list of lists: the outer list enumerates the documents, and the inner list enumerates the tokens within in each list. So, we need to run a word tokenizer on each of the tweets. Let's use `nltk`'s word tokenizer:"
   ]
  },
  {
   "cell_type": "code",
   "execution_count": 21,
   "id": "4f7a0ae6",
   "metadata": {},
   "outputs": [],
   "source": [
    "# import nltk\n",
    "# nltk.download('punkt')\n",
    "from nltk.tokenize import word_tokenize"
   ]
  },
  {
   "cell_type": "code",
   "execution_count": 61,
   "id": "d6f5a82f",
   "metadata": {},
   "outputs": [
    {
     "data": {
      "text/plain": [
       "['USER', 'what', 'USER', 'said', '.']"
      ]
     },
     "execution_count": 61,
     "metadata": {},
     "output_type": "execute_result"
    }
   ],
   "source": [
    "sentences = [word_tokenize(tweet) for tweet in tweets['text_processed']]\n",
    "sentences[0]"
   ]
  },
  {
   "cell_type": "markdown",
   "id": "f1246cfd",
   "metadata": {},
   "source": [
    "Now, we train the model. We are going to use CBOW to train the model since it's better suited for smaller datasets. Take note of what other arguments we set:"
   ]
  },
  {
   "cell_type": "code",
   "execution_count": 62,
   "id": "6d33a1b5",
   "metadata": {},
   "outputs": [],
   "source": [
    "model = Word2Vec(\n",
    "    sentences=sentences,\n",
    "    vector_size=30,\n",
    "    window=5, \n",
    "    min_count=1, #words that appear less than min_count times will be removed from training\n",
    "    sg=0) # defines the training algorithm, \"0\" for CBOW, \"1\" for Skipgram"
   ]
  },
  {
   "cell_type": "markdown",
   "id": "97c89862",
   "metadata": {},
   "source": [
    "The model is now trained! Let's take a look at some word vectors. We can access them using the `wv` attribute:"
   ]
  },
  {
   "cell_type": "code",
   "execution_count": 63,
   "id": "0514d7d6",
   "metadata": {},
   "outputs": [
    {
     "data": {
      "text/plain": [
       "11415"
      ]
     },
     "execution_count": 63,
     "metadata": {},
     "output_type": "execute_result"
    }
   ],
   "source": [
    "len(model.wv)"
   ]
  },
  {
   "cell_type": "code",
   "execution_count": 64,
   "id": "1891649d",
   "metadata": {},
   "outputs": [
    {
     "data": {
      "text/plain": [
       "array([ 2.097484  , -2.1529346 ,  0.45632923, -0.45969078,  1.3455219 ,\n",
       "        0.6371543 ,  1.2549493 ,  1.1145236 , -1.2276798 ,  0.32568797,\n",
       "        0.427625  , -0.26892698,  1.2829013 , -1.4980261 ,  0.23689832,\n",
       "       -0.3775901 ,  1.0208175 ,  0.23144318,  1.1544175 ,  1.5015888 ,\n",
       "       -0.41613203, -2.0894206 ,  0.21630861,  0.25676754,  1.1853422 ,\n",
       "        1.0712045 , -0.15862167,  0.9077059 ,  0.04916891, -1.8846455 ],\n",
       "      dtype=float32)"
      ]
     },
     "execution_count": 64,
     "metadata": {},
     "output_type": "execute_result"
    }
   ],
   "source": [
    "model.wv['worst']"
   ]
  },
  {
   "cell_type": "markdown",
   "id": "e802d11a",
   "metadata": {},
   "source": [
    "Let's explore the word embeddings our model learned."
   ]
  },
  {
   "cell_type": "code",
   "execution_count": 65,
   "id": "0ce79a00",
   "metadata": {},
   "outputs": [
    {
     "data": {
      "text/plain": [
       "[('experience', 0.9517938494682312),\n",
       " ('experienced', 0.9342648386955261),\n",
       " ('ever', 0.9275375604629517),\n",
       " ('terrible', 0.9214728474617004),\n",
       " ('dealt', 0.9192339181900024),\n",
       " ('horrible', 0.9069786071777344),\n",
       " ('officially', 0.8883823752403259),\n",
       " ('airline', 0.8847993016242981),\n",
       " ('incompetent', 0.8633565902709961),\n",
       " ('experiences', 0.8629670143127441)]"
      ]
     },
     "execution_count": 65,
     "metadata": {},
     "output_type": "execute_result"
    }
   ],
   "source": [
    "model.wv.most_similar('worst')"
   ]
  },
  {
   "cell_type": "code",
   "execution_count": 66,
   "id": "b349a037",
   "metadata": {},
   "outputs": [
    {
     "data": {
      "text/plain": [
       "0.2150644063949585"
      ]
     },
     "execution_count": 66,
     "metadata": {},
     "output_type": "execute_result"
    }
   ],
   "source": [
    "model.wv.distance('great', 'united')"
   ]
  },
  {
   "cell_type": "markdown",
   "id": "4335c405",
   "metadata": {},
   "source": [
    "## Extra: Sentiment Analysis [not covered]"
   ]
  },
  {
   "cell_type": "markdown",
   "id": "bcbe2dd6",
   "metadata": {},
   "source": [
    "In the previous module, we used the airline tweets dataset to perform sentiment classification: we tried to classify the sentiment of a text given the bag-of-words representation. Can we do something similar with a word embedding representation?\n",
    "\n",
    "In the word embedding representation, we have an $N$-dimensional vector for each word in a tweet. How can we come up with a representation for the entire tweet?\n",
    "\n",
    "The simplest approach we could take is to simply average the vectors together to come up with a \"tweet representation\". Let's see how this works for predicting sentiment classification.\n",
    "\n",
    "First, we need to subset the dataset into the tweets which only have positive or negative sentiment:"
   ]
  },
  {
   "cell_type": "code",
   "execution_count": null,
   "id": "705ded97",
   "metadata": {},
   "outputs": [],
   "source": [
    "tweets_binary = tweets[tweets['airline_sentiment'] != 'neutral']\n",
    "y = tweets_binary['airline_sentiment']\n",
    "print(y.value_counts(normalize=True))"
   ]
  },
  {
   "cell_type": "markdown",
   "id": "95a60de9",
   "metadata": {},
   "source": [
    "Now, we need to compute the feature matrix. We will query the word vector in each tweet, and come up with an average for the sample:"
   ]
  },
  {
   "cell_type": "code",
   "execution_count": null,
   "id": "9f7db205",
   "metadata": {},
   "outputs": [],
   "source": [
    "vector_size = 30\n",
    "X = np.zeros((len(y), vector_size))\n",
    "\n",
    "# Enumerate over tweets\n",
    "for idx, tweet in enumerate(tweets_binary['text_processed']):\n",
    "    # Tokenize the current tweet\n",
    "    tokens = word_tokenize(tweet)\n",
    "    n_tokens = len(tokens)\n",
    "    # Enumerate over tokens, obtaining word vectors\n",
    "    for token in tokens:\n",
    "        X[idx] += model.wv.get_vector(token)\n",
    "    # Take the average\n",
    "    X[idx] /= n_tokens"
   ]
  },
  {
   "cell_type": "code",
   "execution_count": null,
   "id": "525d1372",
   "metadata": {},
   "outputs": [],
   "source": [
    "from sklearn.model_selection import train_test_split"
   ]
  },
  {
   "cell_type": "code",
   "execution_count": null,
   "id": "89307aa5",
   "metadata": {},
   "outputs": [],
   "source": [
    "#split into training and test set\n",
    "X_train, X_test, y_train, y_test = train_test_split(X, y, test_size=0.2)"
   ]
  },
  {
   "cell_type": "markdown",
   "id": "673cf5e1",
   "metadata": {},
   "source": [
    "We will be using logistic regression to classify tweets into positive or negative sentiment."
   ]
  },
  {
   "cell_type": "code",
   "execution_count": null,
   "id": "8b354480",
   "metadata": {},
   "outputs": [],
   "source": [
    "from sklearn.linear_model import LogisticRegression"
   ]
  },
  {
   "cell_type": "code",
   "execution_count": null,
   "id": "5dfc2368",
   "metadata": {},
   "outputs": [],
   "source": [
    "lr = LogisticRegression()\n",
    "lr.fit(X_train, y_train) \n",
    "#if there is a red warning messsage appears, you can ignore it"
   ]
  },
  {
   "cell_type": "code",
   "execution_count": null,
   "id": "37a4712f",
   "metadata": {},
   "outputs": [],
   "source": [
    "print(f\"Training accuracy: {lr.score(X_train, y_train)}\")\n",
    "print(f\"Test accuracy: {lr.score(X_test, y_test)}\")"
   ]
  },
  {
   "cell_type": "markdown",
   "id": "b6526f64",
   "metadata": {},
   "source": [
    "While this performance is pretty good, its not amazing. Here are some considerations we should keep in mind seeing these results.\n",
    "\n",
    "1. We used a word embedding on a relatively small corpus. A word embedding obtained from a very large corpus would perform better. The tricky part in doing this is that our smaller corpus may have some niche tokens that are not in the larger model, so we'd have to work around that.\n",
    "2. We simply averaged word embeddings across tokens. When doing this, we lose meaning in the ordering of words. Other methods, such as `doc2vec`, have been proposed to address these concerns.\n",
    "3. Word embeddings might be an overly complicated approach for the task at hand. In a tweet aimed at an airline, a person needs to convey their sentiment in only 140 characters. So they are more likely to use relatively simple words that easily convey sentiment, making a bag-of-words a natural approach.\n",
    "\n",
    "It's important to note that we also lose out on the interpretability of the logistic regression model, because the actual dimensions of each word vector do not themselves have any meaning. \n",
    "\n",
    "Moral of the story: word embeddings are great, but always start with the simpler model! This is a good way to baseline other approaches, and it might actually work pretty well!"
   ]
  },
  {
   "cell_type": "markdown",
   "id": "14cb3a49",
   "metadata": {},
   "source": [
    "\\newpage"
   ]
  },
  {
   "cell_type": "markdown",
   "id": "17f042a6",
   "metadata": {},
   "source": [
    "# Topic Modeling"
   ]
  },
  {
   "cell_type": "markdown",
   "id": "7b7e73a7",
   "metadata": {},
   "source": [
    "Topic modeling is an unsupervised machine learning used to identify clusters/groups of similar words within a body of text. While this is not clustering, you can think of it as something similar. Topic modeling is often used to characterize a collection of documents by uncovering the abstract \"topics\". It doesn't categorize documents into clusters, but rather groups together words/phrases that are similar, and we can use those words to determine which documents correspond to which \"topic\"."
   ]
  },
  {
   "cell_type": "markdown",
   "id": "d2cf5588",
   "metadata": {},
   "source": [
    "Consider genre classification. Some books may neatly fall into one genre, such as mystery, science fiction, etc. However, other books may be considered as incorporating multiple genres. You might have a fantasy novel which has mystery components to it, or a romance novel set in the future. In these cases, we don't want to cluster the fantasy novel into a \"fantasy\" bucket, and the romance novel in a \"romance\" bucket. We'd instead like to have some measure of assigning various topics, with different magnitudes to documents. This is the goal of topic modeling.\n"
   ]
  },
  {
   "cell_type": "markdown",
   "id": "5924493e",
   "metadata": {},
   "source": [
    "There are two common approaches to perform topic modeling: non-negative matrix factorization and latent dirichlet allocation (LDA). We will focus on LDA for today."
   ]
  },
  {
   "cell_type": "code",
   "execution_count": 28,
   "id": "b0466c9b",
   "metadata": {},
   "outputs": [],
   "source": [
    "# This is just a plotting helper function for later\n",
    "def plot_top_words(model, feature_names, n_top_words=10, n_row=2, n_col=5, normalize=False):\n",
    "    \"\"\"Plots the top words from a topic model.\n",
    "    \n",
    "    Parameters\n",
    "    ----------\n",
    "    model : topic model object (e.g., LatentDirichletAllocation, NMF)\n",
    "        The trained topic model. It should have a components_ attribute.\n",
    "    feature_names : array-like of strings\n",
    "        The names of each token, as a list or array.\n",
    "    n_top_words : int\n",
    "        The number of words to plot for each topic.\n",
    "    n_row : int\n",
    "        The number of rows in the plot.\n",
    "    n_col : int\n",
    "        The number of columns in the plot.\n",
    "    normalize : boolean\n",
    "        If True, normalizes the components so that they sum to 1 along samples.\n",
    "    \"\"\"\n",
    "    # Create figure\n",
    "    fig, axes = plt.subplots(n_row, n_col, figsize=(3 * n_col, 5 * n_row), sharex=True)\n",
    "    axes = axes.flatten()\n",
    "    components = model.components_\n",
    "    # Normalize components, if necessary\n",
    "    if normalize:\n",
    "        components = components / components.sum(axis=1)[:, np.newaxis]\n",
    "    # Iterate over each topic\n",
    "    for topic_idx, topic in enumerate(components):\n",
    "        # Obtain the top words for each topic\n",
    "        top_features_ind = topic.argsort()[: -n_top_words - 1 : -1]\n",
    "        # Get the token names\n",
    "        top_features = [feature_names[i] for i in top_features_ind]\n",
    "        # Get their values\n",
    "        weights = topic[top_features_ind]\n",
    "\n",
    "        # Plot the token weights as a bar plot\n",
    "        ax = axes[topic_idx]\n",
    "        ax.barh(top_features, weights, height=0.7)\n",
    "        ax.set_title(f\"Topic {topic_idx +1}\", fontdict={\"fontsize\": 20})\n",
    "        ax.invert_yaxis()\n",
    "        ax.tick_params(axis=\"both\", which=\"major\", labelsize=20)\n",
    "        \n",
    "        # Customize plot\n",
    "        for i in \"top right left\".split():\n",
    "            ax.spines[i].set_visible(False)\n",
    "\n",
    "    plt.subplots_adjust(top=0.90, bottom=0.05, wspace=0.90, hspace=0.3)\n",
    "\n",
    "    return fig, axes"
   ]
  },
  {
   "cell_type": "markdown",
   "id": "2f69e3a1",
   "metadata": {},
   "source": [
    "## Dataset"
   ]
  },
  {
   "cell_type": "markdown",
   "id": "a8049283",
   "metadata": {},
   "source": [
    "We will be using a new dataset called the **20 Newsgroups** dataset. You can find the original page for this dataset [here](http://qwone.com/~jason/20Newsgroups/).\n",
    "\n",
    "This dataset is comprised of around 18000 newsgroups posts on 20 topics. The split between the train and test set is based upon a messages posted before and after a specific date. The news groups are as follows, with specific labels indicated:\n",
    "\n",
    "* *Computers*\n",
    "    * comp.graphics\n",
    "    * comp.os.ms-windows.misc\n",
    "    * comp.sys.ibm.pc.hardware\n",
    "    * comp.sys.mac.hardware\n",
    "    * comp.windows.x\n",
    "* *Recreation*\n",
    "    * rec.autos\n",
    "    * rec.motorcycles\n",
    "    * rec.sport.baseball\n",
    "    * rec.sport.hockey\n",
    "* *Science*\n",
    "    * sci.crypt\n",
    "    * sci.electronics\n",
    "    * sci.med\n",
    "    * sci.space\n",
    "* *Miscellaneous*\n",
    "    * misc.forsale\n",
    "* *Politics*\n",
    "    * talk.politics.misc\n",
    "    * talk.politics.guns\n",
    "    * talk.politics.mideast\n",
    "* *Religion*\n",
    "    * talk.religion.misc\n",
    "    * alt.atheism\n",
    "    * soc.religion.christian\n",
    "    \n",
    "Let's begin by importing the dataset. We'll use `scikit-learn` to do so."
   ]
  },
  {
   "cell_type": "code",
   "execution_count": 29,
   "id": "bb9eb0a0",
   "metadata": {},
   "outputs": [],
   "source": [
    "import matplotlib.pyplot as plt\n",
    "from sklearn.feature_extraction.text import TfidfVectorizer, CountVectorizer\n",
    "\n",
    "%matplotlib inline\n",
    "\n",
    "# Import fetcher function\n",
    "from sklearn.datasets import fetch_20newsgroups"
   ]
  },
  {
   "cell_type": "code",
   "execution_count": 30,
   "id": "c9ce8a19",
   "metadata": {},
   "outputs": [],
   "source": [
    "# Always check the documentation! \n",
    "# Note this may take a while to load\n",
    "full_data, labels = fetch_20newsgroups(\n",
    "    subset='train',\n",
    "    shuffle=False,\n",
    "    random_state=1,\n",
    "    remove=(\"headers\", \"footers\", \"quotes\"),\n",
    "    return_X_y=True)"
   ]
  },
  {
   "cell_type": "code",
   "execution_count": 67,
   "id": "a3418f86",
   "metadata": {},
   "outputs": [
    {
     "name": "stdout",
     "output_type": "stream",
     "text": [
      "Help!!!\n",
      "\n",
      "I have an ADB graphicsd tablet which I want to connect to my\n",
      "Quadra 950. Unfortunately, the 950 has only one ADB port and\n",
      "it seems I would have to give up my mouse.\n",
      "\n",
      "Please, can someone help me? I want to use the tablet as well as\n",
      "the mouse (and the keyboard of course!!!).\n",
      "\n",
      "Thanks in advance.\n",
      "\n",
      "\n",
      "--------\n",
      "\n",
      "\n",
      "\n",
      "Yes, it's important to realize that all actions have consequences,\n",
      "and that \"rules\" were made for our own good.  But to suggest that a\n",
      "*disease* is a *punishment* for certain types of sin I think is \n",
      "taking things much too far.  If we got some kind of mouth disease\n",
      "for lying, would any of us have mouths left?  What if we developed\n",
      "blindness every time we lusted after someone or something?  I dare\n",
      "say all of us would be walking into walls.\n",
      "\n",
      "Yes, sin can have terrible consequences, but we need to be *real*\n",
      "careful when saying that the consequences are a *punishment* for \n",
      "sin.  The Jews of Jesus's time believed that all sickness was the\n",
      "result of a sin.  Then Jesus healed a blind man and said that man was\n",
      "blind to show the glory of God, not because of sin.  If AIDS, or any\n",
      "other STD is a *punishment\" for sexual sin, what do we do with \n",
      "diseases like cancer, or multiple sclerosis, which are just as\n",
      "debilitating and terrible as AIDS, yet are not usually linked to a\n",
      "specific behavior or lifestyle?\n",
      "\n",
      "Atonement is *extremely* important, but I think you've missed the mark\n",
      "about as far as you can by suggesting that AIDS is an atonement for sin.\n",
      "The atonement for sin is JESUS CHRIST - period.  This is the central\n",
      "message of the Gospel.  A perfect sacrifice was required for our sins,\n",
      "and was made in the Lamb of God.  His sacrifice atoned for *all* of\n",
      "our sins, past present and future.  God does not require pennance for\n",
      "our sins, nor does he require us to come up with our own atonement.  He\n",
      "has graciously already done that for us.  To suggest that AIDS or \n",
      "some other consequence is an atonement for sins is literally spitting\n",
      "on the sacrifice that Jesus made.\n",
      "\n",
      "In case you couldn't tell, I get *extremely* angry and upset when\n",
      "I see things like this.  Instead of rationalizing our own fears and\n",
      "phobias, we need to be reaching out to people with AIDS and other\n",
      "socially unacceptable diseases.  Whether they got the disease through\n",
      "their own actions or not is irrelevant.  They still need Jesus Christ,\n",
      "no more and no less than we do.  I've said this before, but I think\n",
      "it's a good analogy.  People with AIDS are modern-day lepers.  Jesus\n",
      "healed many lepers.  He can also heal people with AIDS, maybe not on\n",
      "this earth, but in an ultimate sense.  My next-door neighbor has AIDS.\n",
      "She has recently come to have a much deeper and more committed \n",
      "relationship with God.  Her theology isn't what I would want it to be,\n",
      "but God's grace covers her.  The amazing thing is that she is gaining\n",
      "weight (she's had the disease for over 2 years) and her health is\n",
      "excellent apart from occassional skin rashes and such.  She attributes\n",
      "her improvement in her health to God's intervention in her life.  Who\n",
      "are we to suggest that her disease is some kind of punishment?  It\n",
      "seems to me that God is being glorified through her disease.\n",
      "\n",
      "Paul Overstreet, the country singer, has a good song title that I \n",
      "think applies to all of us - But for the Grace of God, There Go I\n",
      "(or something like that).\n",
      "\n",
      "May we all experience and accept God's grace.\n",
      "\n",
      "\n",
      "===============================================================================\n",
      "Paul Conditt\t\tInternet: conditt@titan.tsd.arlut.utexas.edu\n",
      "Applied Research\tPhone:\t  (512) 835-3422   FAX: (512) 835-3416/3259\n",
      "  Laboratories\t\tFedex:\t  10000 Burnet Road, Austin, Texas 78758-4423\n",
      "University of Texas\tPostal:\t  P.O. Box 8029, Austin, Texas 78713-8029\n",
      "Austin, Texas <----- the most wonderful place in Texas to live\n",
      "\n",
      "\n",
      "\n",
      "--------\n",
      "\n",
      "\n",
      "[...lots of stuff about intellectual errors deleted...]\n",
      "\n",
      "This is cute, but I see no statement telling me why your church is the true \n",
      "church. I do presume that you know or at least believe that yours is true. \n",
      "Attempting to ream my faith without replacing it with something \"better\" is \n",
      "a real good way to loose a person completely from Christ.\n",
      "\n",
      "This is the greatest reason I see that these attacks are not motivated by \n",
      "love. They only seek to destroy there is no building or replacing of belief. \n",
      "This is not something Christ did. He guided and instructed He didn't \n",
      "seek to destroy the faith He found, He redirected it. \n",
      "\n",
      "This is what I see when people say they \"love\" <insert favorite group here>. \n",
      "And I have to laugh at the irony. \n"
     ]
    }
   ],
   "source": [
    "# Let's see some data samples\n",
    "print(full_data[5])\n",
    "print('\\n\\n--------\\n\\n')\n",
    "print(full_data[50])\n",
    "print('\\n\\n--------\\n\\n')\n",
    "print(full_data[1000])"
   ]
  },
  {
   "cell_type": "markdown",
   "id": "ce7e13c2",
   "metadata": {},
   "source": [
    "If we take a look at the labels, we see that they're integers, each specifying one of the 20 possible classes:"
   ]
  },
  {
   "cell_type": "code",
   "execution_count": 68,
   "id": "055caa36",
   "metadata": {},
   "outputs": [
    {
     "name": "stdout",
     "output_type": "stream",
     "text": [
      "[ 0  1  2  3  4  5  6  7  8  9 10 11 12 13 14 15 16 17 18 19]\n",
      "(11314,)\n"
     ]
    }
   ],
   "source": [
    "print(np.unique(labels))\n",
    "print(labels.shape)"
   ]
  },
  {
   "cell_type": "code",
   "execution_count": 33,
   "id": "79cf7bcc",
   "metadata": {},
   "outputs": [],
   "source": [
    "newsgroups = fetch_20newsgroups(\n",
    "    subset='train',\n",
    "    shuffle=True,\n",
    "    random_state=1,\n",
    "    remove=(\"headers\", \"footers\", \"quotes\"))"
   ]
  },
  {
   "cell_type": "code",
   "execution_count": 69,
   "id": "e3426452",
   "metadata": {},
   "outputs": [
    {
     "data": {
      "text/plain": [
       "['data', 'filenames', 'target_names', 'target', 'DESCR']"
      ]
     },
     "execution_count": 69,
     "metadata": {},
     "output_type": "execute_result"
    }
   ],
   "source": [
    "list(newsgroups)"
   ]
  },
  {
   "cell_type": "code",
   "execution_count": 70,
   "id": "0a759b5d",
   "metadata": {},
   "outputs": [
    {
     "data": {
      "text/plain": [
       "['alt.atheism',\n",
       " 'comp.graphics',\n",
       " 'comp.os.ms-windows.misc',\n",
       " 'comp.sys.ibm.pc.hardware',\n",
       " 'comp.sys.mac.hardware',\n",
       " 'comp.windows.x',\n",
       " 'misc.forsale',\n",
       " 'rec.autos',\n",
       " 'rec.motorcycles',\n",
       " 'rec.sport.baseball',\n",
       " 'rec.sport.hockey',\n",
       " 'sci.crypt',\n",
       " 'sci.electronics',\n",
       " 'sci.med',\n",
       " 'sci.space',\n",
       " 'soc.religion.christian',\n",
       " 'talk.politics.guns',\n",
       " 'talk.politics.mideast',\n",
       " 'talk.politics.misc',\n",
       " 'talk.religion.misc']"
      ]
     },
     "execution_count": 70,
     "metadata": {},
     "output_type": "execute_result"
    }
   ],
   "source": [
    "newsgroups.target_names"
   ]
  },
  {
   "cell_type": "code",
   "execution_count": 36,
   "id": "4ca6ecc8",
   "metadata": {},
   "outputs": [],
   "source": [
    "# taking a subset of the data to simplify analysis and save time\n",
    "# feel free experiment with the entire dataset later if you would like\n",
    "n_subsamples = 2000\n",
    "data = full_data[:n_subsamples]"
   ]
  },
  {
   "cell_type": "markdown",
   "id": "1a3fb715",
   "metadata": {},
   "source": [
    "## Latent Dirichlet Allocation (LDA)"
   ]
  },
  {
   "cell_type": "markdown",
   "id": "6234d73e",
   "metadata": {},
   "source": [
    "Latent Dirichlet Allocation (LDA) is a Bayesian model that captures how specific topics can generate documents. It is one of the oldest models applied to perform topic modeling.\n",
    "\n",
    "One significant difference between LDA and NMF (non negative matrix factorization) is that LDA is a *generative* model. This means that it can be used to *generate* new documents, by sampling from it. Assume we have a number of topics $T$. Then, we generate a new document as follows:\n",
    "\n",
    "1. Choose a number of words $N$ according to a Poisson distribution. If you're not familiar with a Poisson distribution, don't worry - the only thing you need to know is that the outputs from a Poisson distribution can only be nonnegative integers (e.g., 0, 1, 2, 3 ...).\n",
    "2. Choose a vector of values $\\boldsymbol{\\theta}=(\\theta_1, \\theta_2, \\ldots, \\theta_T)$ from a Dirichlet distribution. The details of a Dirichlet distribution aren't too important other than that it guarantees all of the $\\theta_i$ add up to 1, and are positive. So, we can think of the $\\theta_i$ as proportions, or probabilities.\n",
    "3. For each of the $N$ words $w_n$:\n",
    "- Choose a topic $t_n$ according to a Multinomial distribution following $\\boldsymbol{\\theta}$. In other words, choose a topic according to the probabilities set by $\\boldsymbol{\\theta}$ (remember, we're thinking of these values as proportions, or probabilities).\n",
    "- Choose a word $w_n$ from a probability distribution $p(w_n|t_n)$ conditioned on $t_n$. This probability distribution is another Multinomial distribution.\n",
    "\n",
    "LDA does not model the order of the words, so in the end, it produces a collection of words - just like the bag of words."
   ]
  },
  {
   "cell_type": "markdown",
   "id": "e4231c27",
   "metadata": {},
   "source": [
    "![lda](../data/lda.png)"
   ]
  },
  {
   "cell_type": "markdown",
   "id": "c38ed4cb",
   "metadata": {},
   "source": [
    "There's a lot of variables there, so let's consider a concrete example. Let's suppose we have two topics: soccer and basketball. These are $t_1$ and $t_2$. \n",
    "\n",
    "Some topics are more likely to contains words than others. For example, soccer is more likely to contain `liverpool` and `freekick`, but probably not `nba`. Basketball meanwhile will very likely contain `rebound` and `nba`. Furthermore, even though it's unlikely, a soccer topic might still refer to the `nba`. This unlikeliness is captured through the probabilities assigned in the distribution $p(w_n|t_n)$.\n",
    "\n",
    "Next, each document might consist of multiple \"proportions\" of topics. We've already seen this in NMF, only this time, LDA captures this via a probability distribution rather than a matrix operation. So, Document 1 might mainly be about Soccer, and not really reference basketball - this would be reflected in the probabilities $\\boldsymbol{\\theta}=(0.9, 0.1)$. Meanwhile, another document might equally reference soccer and basketball, so we'd need a different set of parameters $\\boldsymbol{\\theta}=(0.5, 0.5)$.\n",
    "\n",
    "Once again, we're going to use `scikit-learn` to perform LDA. This time, however, we'll use a `CountVectorizer`, since LDA explicitly models *counts*."
   ]
  },
  {
   "cell_type": "code",
   "execution_count": 37,
   "id": "76cb8fd9",
   "metadata": {},
   "outputs": [],
   "source": [
    "# Use a CountVectorizer\n",
    "n_tokens = 1000\n",
    "count_vectorizer = CountVectorizer(\n",
    "    max_df=0.95,\n",
    "    min_df=2,\n",
    "    max_features=n_tokens,\n",
    "    stop_words=\"english\")"
   ]
  },
  {
   "cell_type": "code",
   "execution_count": 71,
   "id": "a4109349",
   "metadata": {},
   "outputs": [
    {
     "name": "stdout",
     "output_type": "stream",
     "text": [
      "(2000, 1000)\n"
     ]
    }
   ],
   "source": [
    "# Fit and transform CountVectorizer\n",
    "counts = count_vectorizer.fit_transform(data)\n",
    "print(counts.shape)"
   ]
  },
  {
   "cell_type": "code",
   "execution_count": 72,
   "id": "ee8892e1",
   "metadata": {},
   "outputs": [],
   "source": [
    "tokens = count_vectorizer.get_feature_names_out()"
   ]
  },
  {
   "cell_type": "code",
   "execution_count": 40,
   "id": "5a2d1c91",
   "metadata": {},
   "outputs": [],
   "source": [
    "from sklearn.decomposition import LatentDirichletAllocation"
   ]
  },
  {
   "cell_type": "code",
   "execution_count": 41,
   "id": "8330e2af",
   "metadata": {},
   "outputs": [],
   "source": [
    "n_components = 10\n",
    "random_state = 0\n",
    "\n",
    "lda = LatentDirichletAllocation(\n",
    "    n_components=n_components,\n",
    "    max_iter=5,\n",
    "    learning_method=\"online\", # Use when dataset is large\n",
    "    learning_offset=50.0, \n",
    "    random_state=random_state)"
   ]
  },
  {
   "cell_type": "code",
   "execution_count": 73,
   "id": "8bc05930",
   "metadata": {},
   "outputs": [
    {
     "data": {
      "text/html": [
       "<style>#sk-container-id-2 {color: black;}#sk-container-id-2 pre{padding: 0;}#sk-container-id-2 div.sk-toggleable {background-color: white;}#sk-container-id-2 label.sk-toggleable__label {cursor: pointer;display: block;width: 100%;margin-bottom: 0;padding: 0.3em;box-sizing: border-box;text-align: center;}#sk-container-id-2 label.sk-toggleable__label-arrow:before {content: \"▸\";float: left;margin-right: 0.25em;color: #696969;}#sk-container-id-2 label.sk-toggleable__label-arrow:hover:before {color: black;}#sk-container-id-2 div.sk-estimator:hover label.sk-toggleable__label-arrow:before {color: black;}#sk-container-id-2 div.sk-toggleable__content {max-height: 0;max-width: 0;overflow: hidden;text-align: left;background-color: #f0f8ff;}#sk-container-id-2 div.sk-toggleable__content pre {margin: 0.2em;color: black;border-radius: 0.25em;background-color: #f0f8ff;}#sk-container-id-2 input.sk-toggleable__control:checked~div.sk-toggleable__content {max-height: 200px;max-width: 100%;overflow: auto;}#sk-container-id-2 input.sk-toggleable__control:checked~label.sk-toggleable__label-arrow:before {content: \"▾\";}#sk-container-id-2 div.sk-estimator input.sk-toggleable__control:checked~label.sk-toggleable__label {background-color: #d4ebff;}#sk-container-id-2 div.sk-label input.sk-toggleable__control:checked~label.sk-toggleable__label {background-color: #d4ebff;}#sk-container-id-2 input.sk-hidden--visually {border: 0;clip: rect(1px 1px 1px 1px);clip: rect(1px, 1px, 1px, 1px);height: 1px;margin: -1px;overflow: hidden;padding: 0;position: absolute;width: 1px;}#sk-container-id-2 div.sk-estimator {font-family: monospace;background-color: #f0f8ff;border: 1px dotted black;border-radius: 0.25em;box-sizing: border-box;margin-bottom: 0.5em;}#sk-container-id-2 div.sk-estimator:hover {background-color: #d4ebff;}#sk-container-id-2 div.sk-parallel-item::after {content: \"\";width: 100%;border-bottom: 1px solid gray;flex-grow: 1;}#sk-container-id-2 div.sk-label:hover label.sk-toggleable__label {background-color: #d4ebff;}#sk-container-id-2 div.sk-serial::before {content: \"\";position: absolute;border-left: 1px solid gray;box-sizing: border-box;top: 0;bottom: 0;left: 50%;z-index: 0;}#sk-container-id-2 div.sk-serial {display: flex;flex-direction: column;align-items: center;background-color: white;padding-right: 0.2em;padding-left: 0.2em;position: relative;}#sk-container-id-2 div.sk-item {position: relative;z-index: 1;}#sk-container-id-2 div.sk-parallel {display: flex;align-items: stretch;justify-content: center;background-color: white;position: relative;}#sk-container-id-2 div.sk-item::before, #sk-container-id-2 div.sk-parallel-item::before {content: \"\";position: absolute;border-left: 1px solid gray;box-sizing: border-box;top: 0;bottom: 0;left: 50%;z-index: -1;}#sk-container-id-2 div.sk-parallel-item {display: flex;flex-direction: column;z-index: 1;position: relative;background-color: white;}#sk-container-id-2 div.sk-parallel-item:first-child::after {align-self: flex-end;width: 50%;}#sk-container-id-2 div.sk-parallel-item:last-child::after {align-self: flex-start;width: 50%;}#sk-container-id-2 div.sk-parallel-item:only-child::after {width: 0;}#sk-container-id-2 div.sk-dashed-wrapped {border: 1px dashed gray;margin: 0 0.4em 0.5em 0.4em;box-sizing: border-box;padding-bottom: 0.4em;background-color: white;}#sk-container-id-2 div.sk-label label {font-family: monospace;font-weight: bold;display: inline-block;line-height: 1.2em;}#sk-container-id-2 div.sk-label-container {text-align: center;}#sk-container-id-2 div.sk-container {/* jupyter's `normalize.less` sets `[hidden] { display: none; }` but bootstrap.min.css set `[hidden] { display: none !important; }` so we also need the `!important` here to be able to override the default hidden behavior on the sphinx rendered scikit-learn.org. See: https://github.com/scikit-learn/scikit-learn/issues/21755 */display: inline-block !important;position: relative;}#sk-container-id-2 div.sk-text-repr-fallback {display: none;}</style><div id=\"sk-container-id-2\" class=\"sk-top-container\"><div class=\"sk-text-repr-fallback\"><pre>LatentDirichletAllocation(learning_method=&#x27;online&#x27;, learning_offset=50.0,\n",
       "                          max_iter=5, random_state=0)</pre><b>In a Jupyter environment, please rerun this cell to show the HTML representation or trust the notebook. <br />On GitHub, the HTML representation is unable to render, please try loading this page with nbviewer.org.</b></div><div class=\"sk-container\" hidden><div class=\"sk-item\"><div class=\"sk-estimator sk-toggleable\"><input class=\"sk-toggleable__control sk-hidden--visually\" id=\"sk-estimator-id-2\" type=\"checkbox\" checked><label for=\"sk-estimator-id-2\" class=\"sk-toggleable__label sk-toggleable__label-arrow\">LatentDirichletAllocation</label><div class=\"sk-toggleable__content\"><pre>LatentDirichletAllocation(learning_method=&#x27;online&#x27;, learning_offset=50.0,\n",
       "                          max_iter=5, random_state=0)</pre></div></div></div></div></div>"
      ],
      "text/plain": [
       "LatentDirichletAllocation(learning_method='online', learning_offset=50.0,\n",
       "                          max_iter=5, random_state=0)"
      ]
     },
     "execution_count": 73,
     "metadata": {},
     "output_type": "execute_result"
    }
   ],
   "source": [
    "# Fit the LDA model\n",
    "lda.fit(counts)"
   ]
  },
  {
   "cell_type": "markdown",
   "id": "805854fe",
   "metadata": {},
   "source": [
    "How can we analyze the trained model? The `lda` object also comes with a `components_` variable, which corresponds to the topic word distribution. Let's plot these values using the function we created above:"
   ]
  },
  {
   "cell_type": "code",
   "execution_count": 74,
   "id": "bfc81eba",
   "metadata": {},
   "outputs": [
    {
     "data": {
      "text/plain": [
       "array([[ 0.1314954 ,  0.16301654,  0.74252553, ...,  0.21179973,\n",
       "         0.138806  ,  0.15816834],\n",
       "       [ 0.12897932,  0.13287685,  0.12634379, ...,  0.16176123,\n",
       "         0.14422482,  0.12230513],\n",
       "       [ 0.19925263,  3.23134391,  0.14071696, ..., 35.19270102,\n",
       "         6.0472418 , 30.029716  ],\n",
       "       ...,\n",
       "       [ 3.46498414, 37.0116914 ,  0.43483484, ..., 51.22649401,\n",
       "         7.07897698, 15.09542708],\n",
       "       [ 0.42978613,  1.53403434,  0.59945065, ..., 11.54325826,\n",
       "         0.25744989,  0.17701032],\n",
       "       [ 7.63771105,  1.3292192 ,  8.71347564, ...,  4.72318139,\n",
       "         2.74939335,  3.73930893]])"
      ]
     },
     "execution_count": 74,
     "metadata": {},
     "output_type": "execute_result"
    }
   ],
   "source": [
    "lda.components_"
   ]
  },
  {
   "cell_type": "markdown",
   "id": "01bae500",
   "metadata": {},
   "source": [
    "Can you match up the target names with any of these plots below?"
   ]
  },
  {
   "cell_type": "code",
   "execution_count": 75,
   "id": "e9421c24",
   "metadata": {},
   "outputs": [
    {
     "data": {
      "image/png": "[encoded data removed]",
      "text/plain": [
       "<Figure size 1500x1000 with 10 Axes>"
      ]
     },
     "metadata": {},
     "output_type": "display_data"
    }
   ],
   "source": [
    "# This time, we're normalizing - what does this do?\n",
    "fig, axes = plot_top_words(lda, tokens, normalize=True)\n",
    "plt.show()"
   ]
  },
  {
   "cell_type": "markdown",
   "id": "badafc9f",
   "metadata": {},
   "source": [
    "## Extra: Dimensionality Reduction [not covered]"
   ]
  },
  {
   "cell_type": "markdown",
   "id": "121149f7",
   "metadata": {},
   "source": [
    "In both NMF and LDA, we broke down the documents into topics. This was, in effect, a *change in representation*. We went from a DTM representation, to a representation of *topics*. \n",
    "\n",
    "Because there are fewer topics than there are tokens, we can think of this as a *dimensionality reduction*. This is desirable for several reasons, the main one being that it's easier to interpret, say, 10 dimensions than it is to interpret 1000.\n",
    "\n",
    "This is computationally true, as well: once we get to higher dimensions, it's harder to compare different vectors with each other, because they generally end up all close to orthogonal. This is known as the *curse of dimensionality*.\n",
    "\n",
    "Let's first transform the counts into the topic representation:"
   ]
  },
  {
   "cell_type": "code",
   "execution_count": null,
   "id": "436394b2",
   "metadata": {},
   "outputs": [],
   "source": [
    "topic_representation = lda.transform(counts)\n",
    "topic_representation.shape"
   ]
  },
  {
   "cell_type": "markdown",
   "id": "e11288c1",
   "metadata": {},
   "source": [
    "Let's use a familiar similarity measure to calculate the similarity between pairs of documents."
   ]
  },
  {
   "cell_type": "code",
   "execution_count": null,
   "id": "2326574b",
   "metadata": {},
   "outputs": [],
   "source": [
    "from sklearn.metrics.pairwise import cosine_similarity"
   ]
  },
  {
   "cell_type": "code",
   "execution_count": null,
   "id": "687d1e5b",
   "metadata": {},
   "outputs": [],
   "source": [
    "#similarily of the first few docs\n",
    "#Notice something special about the diagonal? What does it mean?\n",
    "cosine_similarity(topic_representation[:4])"
   ]
  },
  {
   "cell_type": "markdown",
   "id": "df887a2c",
   "metadata": {},
   "source": [
    "### Try it yourself: Finding Similar Documents\n",
    "Calculate the cosine similarity between all pairs of documents, and find the two documents whose cosine similarity is the highest. What are these documents? Do they seem similar?"
   ]
  },
  {
   "cell_type": "code",
   "execution_count": null,
   "id": "fa3db3a3",
   "metadata": {},
   "outputs": [],
   "source": [
    "#Your code here"
   ]
  }
 ],
 "metadata": {
  "kernelspec": {
   "display_name": "Python 3 (ipykernel)",
   "language": "python",
   "name": "python3"
  },
  "language_info": {
   "codemirror_mode": {
    "name": "ipython",
    "version": 3
   },
   "file_extension": ".py",
   "mimetype": "text/x-python",
   "name": "python",
   "nbconvert_exporter": "python",
   "pygments_lexer": "ipython3",
   "version": "3.9.6"
  }
 },
 "nbformat": 4,
 "nbformat_minor": 5
}
