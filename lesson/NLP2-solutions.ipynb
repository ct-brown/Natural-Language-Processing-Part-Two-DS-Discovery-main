{
 "cells": [
  {
   "cell_type": "markdown",
   "metadata": {},
   "source": [
    "## Solutions \n",
    "These are the solutions to the challenge problems and optional sections not covered during the workshop. Do not run code in this notebook since we have not imported any of the necessary libraries and functions. Use this to check against your own solutions and copy code over to your lesson notebook to run."
   ]
  },
  {
   "cell_type": "markdown",
   "metadata": {},
   "source": [
    "## Challenge 1\n",
    "\n",
    "Look up the `doesnt_match` function in `gensim`'s documentation. Use this function to identify which word doesn't match in the following group:\n",
    "\n",
    "banana, apple, strawberry, happy\n",
    "\n",
    "Then, try it on groups of words that you choose. Here are some suggestions:\n",
    "\n",
    "1. A group of fruits, and a vegetable. Can it identify that the vegetable doesn't match?\n",
    "2. A group of vehicles that travel by land, and a vehicle that travels by air (e.g., a plane or helicopter). Can it identify the vehicle that flies?\n",
    "3. A group of scientists (e.g., biologist, physicist, chemist, etc.) and a person who does not study an empirical science (e.g., an artist). Can it identify the occupation that is not science based?\n",
    "\n",
    "To be clear, `word2vec` does not learn the precise nature of the differences between these groups. However, the semantic differences correspond to similar words appearing near each other in large corpora."
   ]
  },
  {
   "cell_type": "code",
   "execution_count": null,
   "metadata": {},
   "outputs": [],
   "source": [
    "#wv.doesnt_match(['banana', 'apple', 'strawberry', 'happy'])"
   ]
  },
  {
   "cell_type": "code",
   "execution_count": null,
   "metadata": {},
   "outputs": [],
   "source": [
    "#wv.doesnt_match(['banana', 'apple', 'strawberry', 'carrot'])"
   ]
  },
  {
   "cell_type": "code",
   "execution_count": null,
   "metadata": {},
   "outputs": [],
   "source": [
    "#wv.doesnt_match(['car', 'bike', 'bus', 'plane'])"
   ]
  },
  {
   "cell_type": "code",
   "execution_count": null,
   "metadata": {},
   "outputs": [],
   "source": [
    "#wv.doesnt_match(['biologist', 'physicist', 'chemist', 'artist'])"
   ]
  },
  {
   "cell_type": "markdown",
   "metadata": {},
   "source": [
    "## Challenge 2\n",
    "\n",
    "Carry out the following word analogies:\n",
    "\n",
    "1. Mouse : Mice :: Goose : ?\n",
    "2. Kangaroo : Joey :: Cat : ?\n",
    "3. United States : Dollar :: Mexico : ?\n",
    "4. Happy : Sad :: Up : ?\n",
    "5. California : Sacramento :: Canada : ?\n",
    "6. California : Sacramento :: Washington : ?\n",
    "\n",
    "What about something more abstract, such as:\n",
    "\n",
    "7. United States : hamburger :: Canada : ?\n",
    "\n",
    "Some work well, and others don't work as well. Try to come up with your own analogies!"
   ]
  },
  {
   "cell_type": "code",
   "execution_count": null,
   "metadata": {},
   "outputs": [],
   "source": [
    "#wv.most_similar(positive=['mice', 'goose'], negative=['mouse'])"
   ]
  },
  {
   "cell_type": "code",
   "execution_count": null,
   "metadata": {},
   "outputs": [],
   "source": [
    "#wv.most_similar(positive=['joey', 'cat'], negative=['kangaroo'])"
   ]
  },
  {
   "cell_type": "code",
   "execution_count": null,
   "metadata": {},
   "outputs": [],
   "source": [
    "#wv.most_similar(positive=['Dollar', 'Mexico'], negative=['United_States'])"
   ]
  },
  {
   "cell_type": "code",
   "execution_count": null,
   "metadata": {},
   "outputs": [],
   "source": [
    "#wv.most_similar(positive=['sad', 'up'], negative=['happy'])"
   ]
  },
  {
   "cell_type": "code",
   "execution_count": null,
   "metadata": {},
   "outputs": [],
   "source": [
    "#wv.most_similar(positive=['Sacramento', 'Canada'], negative=['California'])"
   ]
  },
  {
   "cell_type": "code",
   "execution_count": null,
   "metadata": {},
   "outputs": [],
   "source": [
    "#wv.most_similar(positive=['Sacramento', 'Washington'], negative=['California'])"
   ]
  },
  {
   "cell_type": "code",
   "execution_count": null,
   "metadata": {},
   "outputs": [],
   "source": [
    "#wv.most_similar(positive=['hamburger', 'Canada'], negative=['United_States'])"
   ]
  },
  {
   "cell_type": "markdown",
   "metadata": {},
   "source": [
    "### Try it yourself: Finding Similar Documents\n",
    "Calculate the cosine similarity between all pairs of documents, and find the two documents whose cosine similarity is the highest. What are these documents? Do they seem similar?"
   ]
  },
  {
   "cell_type": "code",
   "execution_count": null,
   "metadata": {},
   "outputs": [],
   "source": [
    "#n_components = 10\n",
    "#random_state = 0\n",
    "\n",
    "#lda = LatentDirichletAllocation(\n",
    "#    n_components=n_components,\n",
    "#    max_iter=5,\n",
    "#    learning_method=\"online\", # Use when dataset is large\n",
    "#    learning_offset=50.0, \n",
    "#    random_state=random_state).fit(counts)"
   ]
  },
  {
   "cell_type": "code",
   "execution_count": null,
   "metadata": {},
   "outputs": [],
   "source": [
    "#topic_representation = lda.transform(counts)"
   ]
  },
  {
   "cell_type": "code",
   "execution_count": null,
   "metadata": {},
   "outputs": [],
   "source": [
    "# Calculate similarities\n",
    "#similarities = cosine_similarity(topic_representation)"
   ]
  },
  {
   "cell_type": "code",
   "execution_count": null,
   "metadata": {},
   "outputs": [],
   "source": [
    "# Double check the shape\n",
    "#similarities.shape"
   ]
  },
  {
   "cell_type": "code",
   "execution_count": null,
   "metadata": {},
   "outputs": [],
   "source": [
    "# The diagonal of this matrix is all ones.\n",
    "# We want to zero this out in order to find the highest similarities.\n",
    "#np.fill_diagonal(similarities, 0)"
   ]
  },
  {
   "cell_type": "code",
   "execution_count": null,
   "metadata": {},
   "outputs": [],
   "source": [
    "# Now, find the highest value\n",
    "# We need two functions: np.argmax, and np.unravel_index\n",
    "#idx1, idx2 = np.unravel_index(np.argmax(similarities), similarities.shape)"
   ]
  },
  {
   "cell_type": "code",
   "execution_count": null,
   "metadata": {},
   "outputs": [],
   "source": [
    "# What is the similarity?\n",
    "#similarities[idx1, idx2]"
   ]
  },
  {
   "cell_type": "code",
   "execution_count": null,
   "metadata": {},
   "outputs": [],
   "source": [
    "# What are the documents?\n",
    "#print(data[idx1])\n",
    "#print(data[idx2])"
   ]
  }
 ],
 "metadata": {
  "kernelspec": {
   "display_name": "Python 3",
   "language": "python",
   "name": "python3"
  },
  "language_info": {
   "name": "python",
   "version": "3.9.6"
  }
 },
 "nbformat": 4,
 "nbformat_minor": 2
}
